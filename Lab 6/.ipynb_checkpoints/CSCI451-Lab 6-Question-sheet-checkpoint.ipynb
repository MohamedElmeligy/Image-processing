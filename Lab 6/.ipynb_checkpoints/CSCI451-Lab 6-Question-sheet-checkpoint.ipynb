{
 "cells": [
  {
   "cell_type": "markdown",
   "metadata": {},
   "source": [
    "## Name: [    ]\n",
    "## ID: [   ]"
   ]
  },
  {
   "cell_type": "markdown",
   "metadata": {},
   "source": [
    "# <center><font color=darkred>Lab 6 </font>"
   ]
  },
  {
   "cell_type": "markdown",
   "metadata": {},
   "source": [
    "# Lab Goals:\n",
    "    1. Quick overview of some examples in lecture5.\n",
    "    2. Work with hands-on examples such as: Boundary Extraction and Region Filling."
   ]
  },
  {
   "cell_type": "markdown",
   "metadata": {},
   "source": [
    "# <font color=darkred size=4>1-Needed Packages"
   ]
  },
  {
   "cell_type": "code",
   "execution_count": 5,
   "metadata": {},
   "outputs": [],
   "source": [
    "from skimage.morphology import erosion, dilation, opening, closing\n",
    "from skimage.morphology import disk\n",
    "from skimage import data, io\n",
    "from matplotlib import pyplot as plt\n",
    "import numpy as np\n",
    "from skimage.transform import rescale, resize\n",
    "from skimage import img_as_ubyte,img_as_float\n",
    "from skimage import data, io, filters\n",
    "from matplotlib.pyplot import imshow, show, subplot, title, get_cmap\n",
    "from skimage.segmentation import mark_boundaries, find_boundaries\n",
    "from skimage.filters import threshold_otsu\n",
    "from skimage.util import invert"
   ]
  },
  {
   "cell_type": "markdown",
   "metadata": {},
   "source": [
    "## Task 1: Extract the boundary of horse image using Morphological operation ?"
   ]
  },
  {
   "cell_type": "markdown",
   "metadata": {},
   "source": [
    "### Boundary Extraction:\n",
    "      - Extracting the boundary (or outline) of an object is often extremely useful \n",
    "      - The boundary can be given simply as \n",
    "         β(A) = A – (A⊖B)  \n"
   ]
  },
  {
   "cell_type": "code",
   "execution_count": 6,
   "metadata": {},
   "outputs": [
    {
     "data": {
      "image/png": "[encoded data removed]",
      "text/plain": [
       "<Figure size 432x288 with 1 Axes>"
      ]
     },
     "metadata": {
      "needs_background": "light"
     },
     "output_type": "display_data"
    }
   ],
   "source": [
    "img = invert(data.horse())\n",
    "plt.imshow(img,'gray',vmin=0, vmax=1)\n",
    "plt.show()"
   ]
  },
  {
   "cell_type": "code",
   "execution_count": null,
   "metadata": {},
   "outputs": [],
   "source": [
    "\n",
    "\n",
    "\n",
    "\n",
    "\n"
   ]
  },
  {
   "cell_type": "markdown",
   "metadata": {},
   "source": [
    "## Task 2: Given a point inside the whole white circle, fill these black circle (Bonus)? \n"
   ]
  },
  {
   "cell_type": "markdown",
   "metadata": {},
   "source": [
    "### Region Filling:\n",
    "      - The key equation for region filling is\n",
    "        Xk = (Xk-1⊕ B)∩Ac           k=1,2,3..... \n",
    "      - Where X0 is simply the starting point inside the boundary, B is a simple structuring element \n",
    "        and Ac is the complement of A\n",
    "      - This equation is applied repeatedly until Xk is equal to Xk-1 \n"
   ]
  },
  {
   "cell_type": "markdown",
   "metadata": {},
   "source": [
    "### Image show:"
   ]
  },
  {
   "cell_type": "code",
   "execution_count": 8,
   "metadata": {},
   "outputs": [
    {
     "data": {
      "text/plain": [
       "<matplotlib.image.AxesImage at 0x23377e1c608>"
      ]
     },
     "execution_count": 8,
     "metadata": {},
     "output_type": "execute_result"
    },
    {
     "data": {
      "image/png": "[encoded data removed]",
      "text/plain": [
       "<Figure size 432x288 with 1 Axes>"
      ]
     },
     "metadata": {
      "needs_background": "light"
     },
     "output_type": "display_data"
    }
   ],
   "source": [
    "img = io.imread('E:\\\\Digital image processing spring 2020\\\\Lab 6\\\\filling.GIF')\n",
    "image = resize(img, (512, 512))\n",
    "plt.imshow(image, cmap=plt.cm.gray)"
   ]
  },
  {
   "cell_type": "code",
   "execution_count": null,
   "metadata": {},
   "outputs": [],
   "source": []
  },
  {
   "cell_type": "code",
   "execution_count": null,
   "metadata": {},
   "outputs": [],
   "source": []
  }
 ],
 "metadata": {
  "kernelspec": {
   "display_name": "Python 3",
   "language": "python",
   "name": "python3"
  },
  "language_info": {
   "codemirror_mode": {
    "name": "ipython",
    "version": 3
   },
   "file_extension": ".py",
   "mimetype": "text/x-python",
   "name": "python",
   "nbconvert_exporter": "python",
   "pygments_lexer": "ipython3",
   "version": "3.8.5"
  }
 },
 "nbformat": 4,
 "nbformat_minor": 4
}
